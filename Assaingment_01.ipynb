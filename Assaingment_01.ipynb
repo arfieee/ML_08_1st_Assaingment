{
 "cells": [
  {
   "cell_type": "code",
   "execution_count": 105,
   "id": "92e83b42",
   "metadata": {},
   "outputs": [],
   "source": [
    "import pandas as pd\n",
    "import matplotlib.pyplot as plt\n",
    "import numpy as np"
   ]
  },
  {
   "cell_type": "code",
   "execution_count": 106,
   "id": "60420aa0",
   "metadata": {},
   "outputs": [
    {
     "data": {
      "text/html": [
       "<div>\n",
       "<style scoped>\n",
       "    .dataframe tbody tr th:only-of-type {\n",
       "        vertical-align: middle;\n",
       "    }\n",
       "\n",
       "    .dataframe tbody tr th {\n",
       "        vertical-align: top;\n",
       "    }\n",
       "\n",
       "    .dataframe thead th {\n",
       "        text-align: right;\n",
       "    }\n",
       "</style>\n",
       "<table border=\"1\" class=\"dataframe\">\n",
       "  <thead>\n",
       "    <tr style=\"text-align: right;\">\n",
       "      <th></th>\n",
       "      <th>Height</th>\n",
       "      <th>Weight</th>\n",
       "    </tr>\n",
       "  </thead>\n",
       "  <tbody>\n",
       "    <tr>\n",
       "      <th>0</th>\n",
       "      <td>73.847017</td>\n",
       "      <td>241.893563</td>\n",
       "    </tr>\n",
       "    <tr>\n",
       "      <th>1</th>\n",
       "      <td>68.781904</td>\n",
       "      <td>162.310473</td>\n",
       "    </tr>\n",
       "    <tr>\n",
       "      <th>2</th>\n",
       "      <td>74.110105</td>\n",
       "      <td>212.740856</td>\n",
       "    </tr>\n",
       "    <tr>\n",
       "      <th>3</th>\n",
       "      <td>71.730978</td>\n",
       "      <td>220.042470</td>\n",
       "    </tr>\n",
       "    <tr>\n",
       "      <th>4</th>\n",
       "      <td>69.881796</td>\n",
       "      <td>206.349801</td>\n",
       "    </tr>\n",
       "  </tbody>\n",
       "</table>\n",
       "</div>"
      ],
      "text/plain": [
       "      Height      Weight\n",
       "0  73.847017  241.893563\n",
       "1  68.781904  162.310473\n",
       "2  74.110105  212.740856\n",
       "3  71.730978  220.042470\n",
       "4  69.881796  206.349801"
      ]
     },
     "execution_count": 106,
     "metadata": {},
     "output_type": "execute_result"
    }
   ],
   "source": [
    "df = pd.read_csv('Height-Weight Data.csv')\n",
    "df.head()"
   ]
  },
  {
   "cell_type": "code",
   "execution_count": 107,
   "id": "a3ce068e",
   "metadata": {},
   "outputs": [
    {
     "data": {
      "text/plain": [
       "'E:\\\\Learning_Phase\\\\ML Class\\\\4th_Class\\\\Files'"
      ]
     },
     "execution_count": 107,
     "metadata": {},
     "output_type": "execute_result"
    }
   ],
   "source": [
    "import os\n",
    "os.getcwd()"
   ]
  },
  {
   "cell_type": "code",
   "execution_count": 108,
   "id": "954c4c38",
   "metadata": {},
   "outputs": [
    {
     "data": {
      "text/plain": [
       "'E:\\\\Learning_Phase\\\\ML Class\\\\4th_Class\\\\Files'"
      ]
     },
     "execution_count": 108,
     "metadata": {},
     "output_type": "execute_result"
    }
   ],
   "source": [
    "import os\n",
    "os.getcwd()"
   ]
  },
  {
   "cell_type": "markdown",
   "id": "c87c8e82",
   "metadata": {},
   "source": [
    "# Change current working dir"
   ]
  },
  {
   "cell_type": "code",
   "execution_count": 109,
   "id": "1a1c30db",
   "metadata": {},
   "outputs": [],
   "source": [
    "#os.chdir('C:\\\\Users\\\\Study Mart\\\\Desktop\\\\New folder')"
   ]
  },
  {
   "cell_type": "code",
   "execution_count": 110,
   "id": "e4299ddc",
   "metadata": {},
   "outputs": [
    {
     "data": {
      "text/html": [
       "<div>\n",
       "<style scoped>\n",
       "    .dataframe tbody tr th:only-of-type {\n",
       "        vertical-align: middle;\n",
       "    }\n",
       "\n",
       "    .dataframe tbody tr th {\n",
       "        vertical-align: top;\n",
       "    }\n",
       "\n",
       "    .dataframe thead th {\n",
       "        text-align: right;\n",
       "    }\n",
       "</style>\n",
       "<table border=\"1\" class=\"dataframe\">\n",
       "  <thead>\n",
       "    <tr style=\"text-align: right;\">\n",
       "      <th></th>\n",
       "      <th>Height</th>\n",
       "      <th>Weight</th>\n",
       "    </tr>\n",
       "  </thead>\n",
       "  <tbody>\n",
       "    <tr>\n",
       "      <th>3496</th>\n",
       "      <td>69.296830</td>\n",
       "      <td>185.649086</td>\n",
       "    </tr>\n",
       "    <tr>\n",
       "      <th>3497</th>\n",
       "      <td>70.542201</td>\n",
       "      <td>210.198845</td>\n",
       "    </tr>\n",
       "    <tr>\n",
       "      <th>3498</th>\n",
       "      <td>73.912549</td>\n",
       "      <td>202.429960</td>\n",
       "    </tr>\n",
       "    <tr>\n",
       "      <th>3499</th>\n",
       "      <td>67.396021</td>\n",
       "      <td>144.277671</td>\n",
       "    </tr>\n",
       "    <tr>\n",
       "      <th>3500</th>\n",
       "      <td>72.738970</td>\n",
       "      <td>187.222909</td>\n",
       "    </tr>\n",
       "  </tbody>\n",
       "</table>\n",
       "</div>"
      ],
      "text/plain": [
       "         Height      Weight\n",
       "3496  69.296830  185.649086\n",
       "3497  70.542201  210.198845\n",
       "3498  73.912549  202.429960\n",
       "3499  67.396021  144.277671\n",
       "3500  72.738970  187.222909"
      ]
     },
     "execution_count": 110,
     "metadata": {},
     "output_type": "execute_result"
    }
   ],
   "source": [
    "df.tail()"
   ]
  },
  {
   "cell_type": "code",
   "execution_count": 111,
   "id": "18d8f947",
   "metadata": {},
   "outputs": [
    {
     "data": {
      "text/plain": [
       "(3501, 2)"
      ]
     },
     "execution_count": 111,
     "metadata": {},
     "output_type": "execute_result"
    }
   ],
   "source": [
    "df.shape"
   ]
  },
  {
   "cell_type": "code",
   "execution_count": 112,
   "id": "9581cf51",
   "metadata": {},
   "outputs": [
    {
     "name": "stdout",
     "output_type": "stream",
     "text": [
      "<class 'pandas.core.frame.DataFrame'>\n",
      "RangeIndex: 3501 entries, 0 to 3500\n",
      "Data columns (total 2 columns):\n",
      " #   Column  Non-Null Count  Dtype  \n",
      "---  ------  --------------  -----  \n",
      " 0   Height  3501 non-null   float64\n",
      " 1   Weight  3501 non-null   float64\n",
      "dtypes: float64(2)\n",
      "memory usage: 54.8 KB\n"
     ]
    }
   ],
   "source": [
    "df.info()"
   ]
  },
  {
   "cell_type": "code",
   "execution_count": 113,
   "id": "0467fa66",
   "metadata": {},
   "outputs": [
    {
     "data": {
      "text/plain": [
       "<matplotlib.collections.PathCollection at 0x24d3d543e50>"
      ]
     },
     "execution_count": 113,
     "metadata": {},
     "output_type": "execute_result"
    },
    {
     "data": {
      "image/png": "[encoded data removed]",
      "text/plain": [
       "<Figure size 432x288 with 1 Axes>"
      ]
     },
     "metadata": {
      "needs_background": "light"
     },
     "output_type": "display_data"
    }
   ],
   "source": [
    "plt.scatter(df.Height, df.Weight, color='blue')"
   ]
  },
  {
   "cell_type": "markdown",
   "id": "5fe7b38b",
   "metadata": {},
   "source": [
    "# validate training and testing data"
   ]
  },
  {
   "cell_type": "code",
   "execution_count": 114,
   "id": "a39ba2de",
   "metadata": {},
   "outputs": [],
   "source": [
    "from sklearn.model_selection import train_test_split"
   ]
  },
  {
   "cell_type": "code",
   "execution_count": 143,
   "id": "efd58605",
   "metadata": {},
   "outputs": [],
   "source": [
    "#Sep x,y\n",
    "x = df.drop('Height',axis=1)\n",
    "x = df[['Height']]"
   ]
  },
  {
   "cell_type": "code",
   "execution_count": 144,
   "id": "33157aec",
   "metadata": {},
   "outputs": [
    {
     "data": {
      "text/html": [
       "<div>\n",
       "<style scoped>\n",
       "    .dataframe tbody tr th:only-of-type {\n",
       "        vertical-align: middle;\n",
       "    }\n",
       "\n",
       "    .dataframe tbody tr th {\n",
       "        vertical-align: top;\n",
       "    }\n",
       "\n",
       "    .dataframe thead th {\n",
       "        text-align: right;\n",
       "    }\n",
       "</style>\n",
       "<table border=\"1\" class=\"dataframe\">\n",
       "  <thead>\n",
       "    <tr style=\"text-align: right;\">\n",
       "      <th></th>\n",
       "      <th>Height</th>\n",
       "    </tr>\n",
       "  </thead>\n",
       "  <tbody>\n",
       "    <tr>\n",
       "      <th>0</th>\n",
       "      <td>73.847017</td>\n",
       "    </tr>\n",
       "    <tr>\n",
       "      <th>1</th>\n",
       "      <td>68.781904</td>\n",
       "    </tr>\n",
       "    <tr>\n",
       "      <th>2</th>\n",
       "      <td>74.110105</td>\n",
       "    </tr>\n",
       "    <tr>\n",
       "      <th>3</th>\n",
       "      <td>71.730978</td>\n",
       "    </tr>\n",
       "    <tr>\n",
       "      <th>4</th>\n",
       "      <td>69.881796</td>\n",
       "    </tr>\n",
       "  </tbody>\n",
       "</table>\n",
       "</div>"
      ],
      "text/plain": [
       "      Height\n",
       "0  73.847017\n",
       "1  68.781904\n",
       "2  74.110105\n",
       "3  71.730978\n",
       "4  69.881796"
      ]
     },
     "execution_count": 144,
     "metadata": {},
     "output_type": "execute_result"
    }
   ],
   "source": [
    "x.head()"
   ]
  },
  {
   "cell_type": "code",
   "execution_count": 145,
   "id": "4bbdb425",
   "metadata": {},
   "outputs": [
    {
     "data": {
      "text/plain": [
       "0    241.893563\n",
       "1    162.310473\n",
       "2    212.740856\n",
       "3    220.042470\n",
       "4    206.349801\n",
       "Name: Weight, dtype: float64"
      ]
     },
     "execution_count": 145,
     "metadata": {},
     "output_type": "execute_result"
    }
   ],
   "source": [
    "y = df.Weight\n",
    "y.head()"
   ]
  },
  {
   "cell_type": "code",
   "execution_count": 146,
   "id": "6ca3a80d",
   "metadata": {},
   "outputs": [],
   "source": [
    "xtrain,xtest, ytrain,ytest = train_test_split(x,y,test_size=.20) # ,random_state=1"
   ]
  },
  {
   "cell_type": "code",
   "execution_count": 147,
   "id": "de6a3b34",
   "metadata": {},
   "outputs": [
    {
     "data": {
      "text/html": [
       "<div>\n",
       "<style scoped>\n",
       "    .dataframe tbody tr th:only-of-type {\n",
       "        vertical-align: middle;\n",
       "    }\n",
       "\n",
       "    .dataframe tbody tr th {\n",
       "        vertical-align: top;\n",
       "    }\n",
       "\n",
       "    .dataframe thead th {\n",
       "        text-align: right;\n",
       "    }\n",
       "</style>\n",
       "<table border=\"1\" class=\"dataframe\">\n",
       "  <thead>\n",
       "    <tr style=\"text-align: right;\">\n",
       "      <th></th>\n",
       "      <th>Height</th>\n",
       "    </tr>\n",
       "  </thead>\n",
       "  <tbody>\n",
       "    <tr>\n",
       "      <th>2518</th>\n",
       "      <td>71.993174</td>\n",
       "    </tr>\n",
       "    <tr>\n",
       "      <th>442</th>\n",
       "      <td>73.530285</td>\n",
       "    </tr>\n",
       "    <tr>\n",
       "      <th>2549</th>\n",
       "      <td>72.088107</td>\n",
       "    </tr>\n",
       "    <tr>\n",
       "      <th>1994</th>\n",
       "      <td>64.011173</td>\n",
       "    </tr>\n",
       "    <tr>\n",
       "      <th>1703</th>\n",
       "      <td>68.024569</td>\n",
       "    </tr>\n",
       "  </tbody>\n",
       "</table>\n",
       "</div>"
      ],
      "text/plain": [
       "         Height\n",
       "2518  71.993174\n",
       "442   73.530285\n",
       "2549  72.088107\n",
       "1994  64.011173\n",
       "1703  68.024569"
      ]
     },
     "execution_count": 147,
     "metadata": {},
     "output_type": "execute_result"
    }
   ],
   "source": [
    "xtrain.head()"
   ]
  },
  {
   "cell_type": "code",
   "execution_count": 148,
   "id": "5bf8e5cd",
   "metadata": {},
   "outputs": [
    {
     "data": {
      "text/plain": [
       "2518    188.564978\n",
       "442     222.925917\n",
       "2549    192.820501\n",
       "1994    151.131314\n",
       "1703    185.404852\n",
       "Name: Weight, dtype: float64"
      ]
     },
     "execution_count": 148,
     "metadata": {},
     "output_type": "execute_result"
    }
   ],
   "source": [
    "ytrain.head()"
   ]
  },
  {
   "cell_type": "code",
   "execution_count": 149,
   "id": "2b6579a6",
   "metadata": {},
   "outputs": [
    {
     "data": {
      "text/plain": [
       "(701, 1)"
      ]
     },
     "execution_count": 149,
     "metadata": {},
     "output_type": "execute_result"
    }
   ],
   "source": [
    "xtest.shape"
   ]
  },
  {
   "cell_type": "code",
   "execution_count": 150,
   "id": "2ed75050",
   "metadata": {},
   "outputs": [
    {
     "data": {
      "text/plain": [
       "(2800, 1)"
      ]
     },
     "execution_count": 150,
     "metadata": {},
     "output_type": "execute_result"
    }
   ],
   "source": [
    "xtrain.shape"
   ]
  },
  {
   "cell_type": "code",
   "execution_count": 151,
   "id": "272d6bbd",
   "metadata": {},
   "outputs": [],
   "source": [
    "from sklearn.linear_model import LinearRegression"
   ]
  },
  {
   "cell_type": "code",
   "execution_count": 152,
   "id": "bbcc7f6d",
   "metadata": {},
   "outputs": [],
   "source": [
    "reg = LinearRegression()"
   ]
  },
  {
   "cell_type": "markdown",
   "id": "ad824c4e",
   "metadata": {},
   "source": [
    "# Training linear regression model with train data"
   ]
  },
  {
   "cell_type": "code",
   "execution_count": 153,
   "id": "e911cd22",
   "metadata": {},
   "outputs": [
    {
     "data": {
      "text/plain": [
       "LinearRegression()"
      ]
     },
     "execution_count": 153,
     "metadata": {},
     "output_type": "execute_result"
    }
   ],
   "source": [
    "reg.fit(xtrain,ytrain)"
   ]
  },
  {
   "cell_type": "code",
   "execution_count": 154,
   "id": "5251604c",
   "metadata": {},
   "outputs": [
    {
     "data": {
      "text/plain": [
       "array([5.92235156])"
      ]
     },
     "execution_count": 154,
     "metadata": {},
     "output_type": "execute_result"
    }
   ],
   "source": [
    "m=reg.coef_\n",
    "m"
   ]
  },
  {
   "cell_type": "code",
   "execution_count": 155,
   "id": "2a83e745",
   "metadata": {},
   "outputs": [
    {
     "data": {
      "text/plain": [
       "-221.77544344638662"
      ]
     },
     "execution_count": 155,
     "metadata": {},
     "output_type": "execute_result"
    }
   ],
   "source": [
    "c=reg.intercept_\n",
    "c"
   ]
  },
  {
   "cell_type": "code",
   "execution_count": 156,
   "id": "177591b8",
   "metadata": {},
   "outputs": [
    {
     "data": {
      "text/plain": [
       "array([215.53099575])"
      ]
     },
     "execution_count": 156,
     "metadata": {},
     "output_type": "execute_result"
    }
   ],
   "source": [
    "y = (73.84*m)+c\n",
    "y"
   ]
  },
  {
   "cell_type": "code",
   "execution_count": 159,
   "id": "5420defe",
   "metadata": {},
   "outputs": [
    {
     "name": "stderr",
     "output_type": "stream",
     "text": [
      "C:\\Users\\88018\\AppData\\Local\\Programs\\Python\\Python310\\lib\\site-packages\\sklearn\\base.py:450: UserWarning: X does not have valid feature names, but LinearRegression was fitted with feature names\n",
      "  warnings.warn(\n"
     ]
    },
    {
     "data": {
      "text/plain": [
       "array([215.57255289])"
      ]
     },
     "execution_count": 159,
     "metadata": {},
     "output_type": "execute_result"
    }
   ],
   "source": [
    "reg.predict([[73.847017]])"
   ]
  },
  {
   "cell_type": "code",
   "execution_count": 160,
   "id": "cf9ab316",
   "metadata": {},
   "outputs": [
    {
     "data": {
      "text/plain": [
       "Height    69.024411\n",
       "dtype: float64"
      ]
     },
     "execution_count": 160,
     "metadata": {},
     "output_type": "execute_result"
    }
   ],
   "source": [
    "x.mean()"
   ]
  },
  {
   "cell_type": "code",
   "execution_count": 161,
   "id": "f5c0f046",
   "metadata": {},
   "outputs": [
    {
     "data": {
      "text/plain": [
       "215.53099575377578"
      ]
     },
     "execution_count": 161,
     "metadata": {},
     "output_type": "execute_result"
    }
   ],
   "source": [
    "y.mean()"
   ]
  },
  {
   "cell_type": "code",
   "execution_count": 162,
   "id": "b9132f22",
   "metadata": {},
   "outputs": [
    {
     "data": {
      "text/plain": [
       "array([194.62377856, 148.09544757, 179.38774991, 198.12571603,\n",
       "       177.96731748, 200.83296661, 167.53491949, 172.29671727,\n",
       "       173.27900501, 198.70290747, 192.25932009, 207.8281133 ,\n",
       "       197.98335312, 164.67973592, 205.15805871, 166.03595431,\n",
       "       183.0943507 , 147.46372762, 210.76828155, 187.57683184,\n",
       "       170.41759071, 159.67299412, 176.61548406, 186.2421797 ,\n",
       "       170.19011478, 187.54094612, 168.89718578, 191.1104973 ,\n",
       "       188.26686439, 190.81770477, 166.16714541, 187.17113708,\n",
       "       154.86512353, 195.17893429, 208.87525589, 153.94000513,\n",
       "       191.67589224, 223.23491758, 177.15903766, 175.73483287,\n",
       "       186.68132378, 221.69206558, 175.23489537, 201.33929823,\n",
       "       155.30830749, 176.95910387, 144.7610237 , 172.26438099,\n",
       "       161.19479382, 174.38436082, 224.71829371, 176.77128117,\n",
       "       178.57028423, 168.86036492, 193.35140462, 199.72679286,\n",
       "       173.26601327, 188.58139397, 213.76381757, 191.22617848,\n",
       "       213.5282911 , 190.41298181, 198.60653304, 161.76942443,\n",
       "       200.96385413, 193.47109144, 168.4646023 , 190.2225509 ,\n",
       "       207.65086632, 168.14356329, 179.47439326, 184.0438975 ,\n",
       "       179.27404526, 170.90037767, 209.47619868, 221.29967692,\n",
       "       201.46957042, 206.21565099, 185.09688272, 178.38828806,\n",
       "       200.19291113, 187.87055904, 207.23674684, 178.51729482,\n",
       "       180.23709218, 177.61637912, 212.21119109, 193.17227362,\n",
       "       194.42097296, 194.43314914, 197.87759509, 194.38440878,\n",
       "       183.7017411 , 184.56255703, 201.28612292, 161.59191841,\n",
       "       196.70647198, 169.67763908, 180.95988705, 156.37072133,\n",
       "       178.13197052, 214.59802497, 205.63954429, 206.91575668,\n",
       "       176.50496877, 166.37726938, 189.67745423, 203.80384456,\n",
       "       197.8043398 , 188.87033359, 168.69942899, 180.32129238,\n",
       "       170.53828889, 200.80051425, 194.82644641, 194.40349409,\n",
       "       180.74291205, 235.19794609, 197.76318526, 162.19313759,\n",
       "       187.63694644, 186.19383815, 194.83891793, 180.68416925,\n",
       "       181.92660653, 181.95123043, 174.72209452, 189.79800903,\n",
       "       198.07497907, 176.6338376 , 195.30456928, 187.5134843 ,\n",
       "       163.59856693, 186.05668507, 173.2046339 , 206.70812277,\n",
       "       222.66147783, 183.99757375, 200.90286332, 215.90807306,\n",
       "       188.02344034, 154.13050776, 155.9900536 , 187.2891628 ,\n",
       "       160.33969817, 175.45742643, 194.05435228, 179.28510419,\n",
       "       209.37674575, 204.82957098, 177.94096491, 168.6540498 ,\n",
       "       197.3181074 , 182.52328333, 195.46690218, 182.53765967,\n",
       "       170.37107372, 180.7769844 , 207.84317165, 195.36390976,\n",
       "       181.5432918 , 206.0832082 , 161.62035683, 221.47037182,\n",
       "       187.84033699, 212.34397554, 229.0142636 , 187.04905521,\n",
       "       183.07576334, 188.67299877, 213.95141031, 167.13043194,\n",
       "       199.09117192, 205.46613766, 201.86103585, 178.88660887,\n",
       "       163.72615168, 184.20696583, 195.55306393, 196.12558796,\n",
       "       187.94588253, 212.95688947, 225.15477339, 243.29622611,\n",
       "       221.18906249, 186.85165363, 186.69159658, 194.49917809,\n",
       "       176.05598784, 181.15230929, 186.84969778, 201.64983425,\n",
       "       206.87651554, 183.28616193, 160.0666748 , 195.80834653,\n",
       "       215.57255301, 198.41227588, 174.69637582, 170.55111948,\n",
       "       228.28395266, 150.22614567, 195.5253687 , 189.62579379,\n",
       "       161.56212779, 209.20357205, 198.57095013, 205.73538055,\n",
       "       165.56337256, 155.66222911, 190.38958425, 166.07795308,\n",
       "       182.44570029, 176.36014696, 215.31201408, 165.46399669,\n",
       "       217.31426485, 193.88895231, 185.07930175, 163.40560831,\n",
       "       182.0057343 , 191.56849739, 155.74323918, 201.19327655,\n",
       "       168.24753153, 192.05854545, 166.73187562, 149.98857664,\n",
       "       209.45410937, 170.44697203, 191.43098429, 197.03809399,\n",
       "       192.41842768, 173.7321477 , 176.63071256, 172.82157513,\n",
       "       215.54215583, 181.19000754, 179.02555287, 193.06710628,\n",
       "       180.04277905, 196.71759824, 190.23755145, 201.24376792,\n",
       "       192.84230856, 190.95202465, 185.92298982, 164.38249208,\n",
       "       215.05505035, 165.29618431, 206.73495197, 187.68222341,\n",
       "       181.46591954, 202.30689286, 142.21828331, 182.6295607 ,\n",
       "       167.54699072, 197.08143755, 177.56785866, 175.4266315 ,\n",
       "       151.89226769, 188.36146655, 190.22297115, 181.70001807,\n",
       "       157.18354164, 180.16072943, 190.17772373, 180.65330521,\n",
       "       148.25705776, 205.82546781, 170.30178137, 203.32500177,\n",
       "       186.02986884, 175.53605998, 181.71607647, 182.43592658,\n",
       "       204.11340676, 174.83813868, 197.41414354, 165.02345345,\n",
       "       194.72646414, 198.47220126, 207.2772996 , 162.67360714,\n",
       "       178.38685372, 180.06872866, 186.04409001, 200.04820344,\n",
       "       183.07693668, 208.93716916, 195.69420576, 210.43451961,\n",
       "       189.12527916, 167.21861102, 190.71893321, 183.88440892,\n",
       "       174.52956272, 226.07392549, 179.45789229, 179.33368601,\n",
       "       184.1487047 , 198.04517347, 190.52542849, 197.44585045,\n",
       "       196.5793458 , 203.80635777, 188.45342587, 173.24307244,\n",
       "       220.00080964, 207.2026653 , 201.24965112, 173.05525969,\n",
       "       166.42949717, 173.42257904, 216.25909599, 160.37792796,\n",
       "       181.95419196, 199.3957375 , 169.41935117, 186.12578683,\n",
       "       195.69661812, 179.78133495, 178.12736323, 163.06166324,\n",
       "       172.96843938, 197.59374282, 205.59059499, 203.22285269,\n",
       "       177.51685596, 185.46778515, 171.18289652, 215.88597375,\n",
       "       204.66768196, 174.6931466 , 173.01504456, 199.97838277,\n",
       "       205.92930126, 198.39666125, 180.03336932, 205.71490011,\n",
       "       208.64307045, 178.37335503, 193.4684217 , 197.74711307,\n",
       "       189.97931382, 185.79741791, 203.33721395, 179.17770471,\n",
       "       170.68491701, 206.28357633, 209.01030902, 199.23897421,\n",
       "       179.68711087, 195.61119785, 194.51466765, 146.94208932,\n",
       "       154.99696615, 181.01404275, 191.18865144, 189.68038236,\n",
       "       206.51819586, 200.33025241, 208.75143444, 195.64777459,\n",
       "       169.90159511, 187.80094369, 178.46374705, 174.16181697,\n",
       "       165.87714047, 160.12161782, 155.59833493, 203.34277238,\n",
       "       198.67091309, 179.20094141, 194.45430745, 189.55636695,\n",
       "       198.48629562, 175.85234174, 201.19266276, 187.67977161,\n",
       "       173.34858317, 193.8029279 , 190.28520956, 197.86432594,\n",
       "       186.35899879, 191.61402452, 185.57517331, 224.93071834,\n",
       "       185.99832723, 212.99693422, 172.98790526, 190.86065828,\n",
       "       171.34084439, 216.28741443, 187.31792665, 198.5100728 ,\n",
       "       174.26332685, 187.12660775, 225.79110703, 210.35414993,\n",
       "       191.86649419, 190.29011155, 185.85181174, 182.79261382,\n",
       "       188.77513789, 181.38638709, 193.88688577, 178.62944467,\n",
       "       201.11578306, 180.54993832, 170.70031797, 165.40678843,\n",
       "       178.62329485, 193.92871066, 181.80178788, 176.09369326,\n",
       "       177.70355803, 202.0591648 , 160.15449078, 177.74579387,\n",
       "       161.79492981, 207.11128703, 183.14072443, 163.88423653,\n",
       "       211.14421383, 211.28131296, 181.12341005, 192.33993615,\n",
       "       200.86485421, 194.78042085, 185.82715451, 231.24260333,\n",
       "       188.03267358, 166.97680904, 166.2209434 , 194.04678677,\n",
       "       166.20215361, 151.04339951, 187.12864551, 145.78841157,\n",
       "       189.44673688, 205.08114187, 176.86691495, 170.27243814,\n",
       "       179.27668918, 184.00039066, 191.30066312, 171.91620399,\n",
       "       191.46662595, 180.37841382, 177.56769769, 213.96206432,\n",
       "       172.41467973, 201.83209651, 225.55878857, 191.41426597,\n",
       "       201.09930417, 181.22160483, 163.42153399, 190.80370771,\n",
       "       183.22093688, 207.36719948, 174.5180839 , 183.48735677,\n",
       "       173.8674042 , 192.69680651, 168.59618588, 195.58094612,\n",
       "       189.59598968, 171.865743  , 170.2473443 , 129.89763912,\n",
       "       173.16145717, 215.22827416, 206.83737294, 188.60051167,\n",
       "       200.36658817, 201.5071934 , 193.09114712, 190.62470392,\n",
       "       172.30250417, 177.90525337, 183.03538824, 192.97135003,\n",
       "       187.78545408, 155.11994591, 175.00944886, 199.39955617,\n",
       "       184.75032921, 192.08911929, 211.30401913, 186.03821983,\n",
       "       188.69979818, 171.39767125, 176.55717241, 179.66842069,\n",
       "       176.04566198, 169.86180727, 188.27886384, 162.11822879,\n",
       "       205.15610244, 170.34118681, 166.68553678, 231.69471304,\n",
       "       201.18673834, 198.16510157, 202.99628313, 180.82043018,\n",
       "       168.00378584, 194.65499883, 220.05962877, 186.3307898 ,\n",
       "       200.8280616 , 165.25266249, 189.69420359, 172.17102447,\n",
       "       172.77710159, 168.0798514 , 198.17052863, 192.75534866,\n",
       "       189.11109004, 188.17368963, 179.00579667, 216.95398848,\n",
       "       162.15918706, 181.79182352, 188.09930413, 208.23286659,\n",
       "       157.79762109, 209.20518299, 205.59546387, 182.35839678,\n",
       "       175.67517477, 177.25113893, 157.47868179, 193.24705291,\n",
       "       178.0008554 , 198.45679734, 169.55397895, 181.18760212,\n",
       "       190.2188338 , 209.24270073, 209.14498696, 215.96065733,\n",
       "       202.31562193, 190.95233919, 162.03551314, 196.37669543,\n",
       "       183.21454258, 185.21565347, 181.35264361, 228.44970241,\n",
       "       172.52001035, 191.1968138 , 201.36266694, 210.91025021,\n",
       "       176.36640334, 179.63018463, 183.39256213, 161.57609596,\n",
       "       196.61021256, 208.35975469, 197.99273987, 228.39612011,\n",
       "       163.36119926, 169.44108721, 225.01302368, 205.7763496 ,\n",
       "       204.45931379, 176.0370484 , 222.23471756, 190.86211643,\n",
       "       190.02695618, 180.28614903, 192.39065185, 197.93454928,\n",
       "       216.39507526, 173.44459834, 206.3489588 , 180.37338917,\n",
       "       185.21215922, 186.57978797, 203.44181008, 192.60093087,\n",
       "       186.0285481 , 217.91351716, 180.55052327, 179.61116589,\n",
       "       184.75887357, 147.1556402 , 196.33298681, 176.90864952,\n",
       "       186.30330891, 201.42788737, 204.6532968 , 165.42390243,\n",
       "       188.9992119 , 173.85411894, 163.87923197, 186.52129592,\n",
       "       184.25122848, 201.50323822, 163.12650245, 171.89081729,\n",
       "       181.85473868, 205.67109088, 176.47939422, 194.24993883,\n",
       "       173.68908646, 190.24124972, 172.39569617, 186.91572963,\n",
       "       221.02366199, 197.98299174, 155.26921795, 170.611292  ,\n",
       "       193.09817908, 194.10853682, 155.62479215, 185.02410496,\n",
       "       183.94177039, 187.6131628 , 191.64195113, 203.26475422,\n",
       "       179.32913871, 183.07344474, 180.86140249, 158.7794068 ,\n",
       "       195.46361101, 195.95289674, 197.6413709 , 182.00771835,\n",
       "       182.67761893, 202.07975824, 183.20989021, 186.79744457,\n",
       "       172.50444084, 163.73449118, 185.97936315, 179.78362849,\n",
       "       208.99445482, 182.64077645, 189.20609433, 187.73093854,\n",
       "       188.91875439, 189.88320963, 227.435587  , 188.22433042,\n",
       "       174.60048117, 199.54685246, 180.75829613, 176.58327162,\n",
       "       181.90343948, 169.93521926, 169.93893962, 192.94349905,\n",
       "       150.17305339, 153.16845189, 172.2283375 , 164.33079416,\n",
       "       233.09872564, 178.94029641, 164.35514646, 187.56362257,\n",
       "       202.93814914, 170.96279357, 185.65499891, 179.53324414,\n",
       "       198.46307035, 164.78569697, 202.88214135, 179.61633385,\n",
       "       187.3696029 , 200.64813262, 182.05843725, 205.80360444,\n",
       "       165.16337824, 191.957596  , 184.03622302, 155.8950653 ,\n",
       "       182.46678546, 178.59129058, 194.74480608, 192.28954055,\n",
       "       199.33678481, 198.73260172, 205.00804507, 201.80546453,\n",
       "       183.38017642, 191.67291845, 184.1301065 , 202.29793412,\n",
       "       196.92303863, 185.60130462, 177.96560947, 184.60821279,\n",
       "       181.15015255, 166.58732944, 188.42296561, 175.13433763,\n",
       "       205.47894504])"
      ]
     },
     "execution_count": 162,
     "metadata": {},
     "output_type": "execute_result"
    }
   ],
   "source": [
    "reg.predict(xtest)"
   ]
  },
  {
   "cell_type": "code",
   "execution_count": 163,
   "id": "699c82cb",
   "metadata": {},
   "outputs": [
    {
     "data": {
      "text/plain": [
       "array([215.57255301, 185.57517331, 217.13065483, ..., 215.96065733,\n",
       "       177.36748537, 209.01030902])"
      ]
     },
     "execution_count": 163,
     "metadata": {},
     "output_type": "execute_result"
    }
   ],
   "source": [
    "reg.predict(x)"
   ]
  },
  {
   "cell_type": "code",
   "execution_count": 164,
   "id": "1b9fc24a",
   "metadata": {
    "scrolled": true
   },
   "outputs": [
    {
     "data": {
      "text/html": [
       "<div>\n",
       "<style scoped>\n",
       "    .dataframe tbody tr th:only-of-type {\n",
       "        vertical-align: middle;\n",
       "    }\n",
       "\n",
       "    .dataframe tbody tr th {\n",
       "        vertical-align: top;\n",
       "    }\n",
       "\n",
       "    .dataframe thead th {\n",
       "        text-align: right;\n",
       "    }\n",
       "</style>\n",
       "<table border=\"1\" class=\"dataframe\">\n",
       "  <thead>\n",
       "    <tr style=\"text-align: right;\">\n",
       "      <th></th>\n",
       "      <th>Height</th>\n",
       "      <th>Weight</th>\n",
       "      <th>Predicted Weight</th>\n",
       "    </tr>\n",
       "  </thead>\n",
       "  <tbody>\n",
       "    <tr>\n",
       "      <th>0</th>\n",
       "      <td>73.847017</td>\n",
       "      <td>241.893563</td>\n",
       "      <td>215.572553</td>\n",
       "    </tr>\n",
       "    <tr>\n",
       "      <th>1</th>\n",
       "      <td>68.781904</td>\n",
       "      <td>162.310473</td>\n",
       "      <td>185.575173</td>\n",
       "    </tr>\n",
       "    <tr>\n",
       "      <th>2</th>\n",
       "      <td>74.110105</td>\n",
       "      <td>212.740856</td>\n",
       "      <td>217.130655</td>\n",
       "    </tr>\n",
       "    <tr>\n",
       "      <th>3</th>\n",
       "      <td>71.730978</td>\n",
       "      <td>220.042470</td>\n",
       "      <td>203.040628</td>\n",
       "    </tr>\n",
       "    <tr>\n",
       "      <th>4</th>\n",
       "      <td>69.881796</td>\n",
       "      <td>206.349801</td>\n",
       "      <td>192.089119</td>\n",
       "    </tr>\n",
       "  </tbody>\n",
       "</table>\n",
       "</div>"
      ],
      "text/plain": [
       "      Height      Weight  Predicted Weight\n",
       "0  73.847017  241.893563        215.572553\n",
       "1  68.781904  162.310473        185.575173\n",
       "2  74.110105  212.740856        217.130655\n",
       "3  71.730978  220.042470        203.040628\n",
       "4  69.881796  206.349801        192.089119"
      ]
     },
     "execution_count": 164,
     "metadata": {},
     "output_type": "execute_result"
    }
   ],
   "source": [
    "df['Predicted Weight'] = reg.predict(x)\n",
    "df.head()"
   ]
  },
  {
   "cell_type": "code",
   "execution_count": 165,
   "id": "9df7bbfc",
   "metadata": {},
   "outputs": [
    {
     "data": {
      "text/plain": [
       "<matplotlib.collections.PathCollection at 0x24d41f581c0>"
      ]
     },
     "execution_count": 165,
     "metadata": {},
     "output_type": "execute_result"
    },
    {
     "data": {
      "image/png": "[encoded data removed]",
      "text/plain": [
       "<Figure size 432x288 with 1 Axes>"
      ]
     },
     "metadata": {
      "needs_background": "light"
     },
     "output_type": "display_data"
    }
   ],
   "source": [
    "plt.scatter(df.Height, df.Weight, color='black')"
   ]
  },
  {
   "cell_type": "code",
   "execution_count": 166,
   "id": "4ff84f12",
   "metadata": {},
   "outputs": [
    {
     "data": {
      "text/plain": [
       "<matplotlib.collections.PathCollection at 0x24d421de890>"
      ]
     },
     "execution_count": 166,
     "metadata": {},
     "output_type": "execute_result"
    },
    {
     "data": {
      "image/png": "[encoded data removed]",
      "text/plain": [
       "<Figure size 720x576 with 1 Axes>"
      ]
     },
     "metadata": {
      "needs_background": "light"
     },
     "output_type": "display_data"
    }
   ],
   "source": [
    "plt.figure(figsize=(10,8))\n",
    "plt.scatter(df.Height, df.Weight, color='black')\n",
    "plt.plot(df.Height, df['Predicted Weight'])\n",
    "plt.scatter(df.Height, df['Predicted Weight'],color='red')\n"
   ]
  },
  {
   "cell_type": "code",
   "execution_count": 167,
   "id": "e9244d9a",
   "metadata": {},
   "outputs": [
    {
     "data": {
      "text/plain": [
       "[<matplotlib.lines.Line2D at 0x24d4224cee0>]"
      ]
     },
     "execution_count": 167,
     "metadata": {},
     "output_type": "execute_result"
    },
    {
     "data": {
      "image/png": "[encoded data removed]",
      "text/plain": [
       "<Figure size 432x288 with 1 Axes>"
      ]
     },
     "metadata": {
      "needs_background": "light"
     },
     "output_type": "display_data"
    }
   ],
   "source": [
    "plt.plot(df.Height, df['Predicted Weight'])"
   ]
  },
  {
   "cell_type": "code",
   "execution_count": 168,
   "id": "7c5e2118",
   "metadata": {},
   "outputs": [
    {
     "data": {
      "text/plain": [
       "0.7262027172752281"
      ]
     },
     "execution_count": 168,
     "metadata": {},
     "output_type": "execute_result"
    }
   ],
   "source": [
    "reg.score(xtest, ytest)"
   ]
  },
  {
   "cell_type": "markdown",
   "id": "49a29ebb",
   "metadata": {},
   "source": [
    "# Mean Squared Error"
   ]
  },
  {
   "cell_type": "code",
   "execution_count": 169,
   "id": "443780a4",
   "metadata": {},
   "outputs": [
    {
     "data": {
      "text/plain": [
       "array([194.62377856, 148.09544757, 179.38774991, 198.12571603,\n",
       "       177.96731748, 200.83296661, 167.53491949, 172.29671727,\n",
       "       173.27900501, 198.70290747, 192.25932009, 207.8281133 ,\n",
       "       197.98335312, 164.67973592, 205.15805871, 166.03595431,\n",
       "       183.0943507 , 147.46372762, 210.76828155, 187.57683184,\n",
       "       170.41759071, 159.67299412, 176.61548406, 186.2421797 ,\n",
       "       170.19011478, 187.54094612, 168.89718578, 191.1104973 ,\n",
       "       188.26686439, 190.81770477, 166.16714541, 187.17113708,\n",
       "       154.86512353, 195.17893429, 208.87525589, 153.94000513,\n",
       "       191.67589224, 223.23491758, 177.15903766, 175.73483287,\n",
       "       186.68132378, 221.69206558, 175.23489537, 201.33929823,\n",
       "       155.30830749, 176.95910387, 144.7610237 , 172.26438099,\n",
       "       161.19479382, 174.38436082, 224.71829371, 176.77128117,\n",
       "       178.57028423, 168.86036492, 193.35140462, 199.72679286,\n",
       "       173.26601327, 188.58139397, 213.76381757, 191.22617848,\n",
       "       213.5282911 , 190.41298181, 198.60653304, 161.76942443,\n",
       "       200.96385413, 193.47109144, 168.4646023 , 190.2225509 ,\n",
       "       207.65086632, 168.14356329, 179.47439326, 184.0438975 ,\n",
       "       179.27404526, 170.90037767, 209.47619868, 221.29967692,\n",
       "       201.46957042, 206.21565099, 185.09688272, 178.38828806,\n",
       "       200.19291113, 187.87055904, 207.23674684, 178.51729482,\n",
       "       180.23709218, 177.61637912, 212.21119109, 193.17227362,\n",
       "       194.42097296, 194.43314914, 197.87759509, 194.38440878,\n",
       "       183.7017411 , 184.56255703, 201.28612292, 161.59191841,\n",
       "       196.70647198, 169.67763908, 180.95988705, 156.37072133,\n",
       "       178.13197052, 214.59802497, 205.63954429, 206.91575668,\n",
       "       176.50496877, 166.37726938, 189.67745423, 203.80384456,\n",
       "       197.8043398 , 188.87033359, 168.69942899, 180.32129238,\n",
       "       170.53828889, 200.80051425, 194.82644641, 194.40349409,\n",
       "       180.74291205, 235.19794609, 197.76318526, 162.19313759,\n",
       "       187.63694644, 186.19383815, 194.83891793, 180.68416925,\n",
       "       181.92660653, 181.95123043, 174.72209452, 189.79800903,\n",
       "       198.07497907, 176.6338376 , 195.30456928, 187.5134843 ,\n",
       "       163.59856693, 186.05668507, 173.2046339 , 206.70812277,\n",
       "       222.66147783, 183.99757375, 200.90286332, 215.90807306,\n",
       "       188.02344034, 154.13050776, 155.9900536 , 187.2891628 ,\n",
       "       160.33969817, 175.45742643, 194.05435228, 179.28510419,\n",
       "       209.37674575, 204.82957098, 177.94096491, 168.6540498 ,\n",
       "       197.3181074 , 182.52328333, 195.46690218, 182.53765967,\n",
       "       170.37107372, 180.7769844 , 207.84317165, 195.36390976,\n",
       "       181.5432918 , 206.0832082 , 161.62035683, 221.47037182,\n",
       "       187.84033699, 212.34397554, 229.0142636 , 187.04905521,\n",
       "       183.07576334, 188.67299877, 213.95141031, 167.13043194,\n",
       "       199.09117192, 205.46613766, 201.86103585, 178.88660887,\n",
       "       163.72615168, 184.20696583, 195.55306393, 196.12558796,\n",
       "       187.94588253, 212.95688947, 225.15477339, 243.29622611,\n",
       "       221.18906249, 186.85165363, 186.69159658, 194.49917809,\n",
       "       176.05598784, 181.15230929, 186.84969778, 201.64983425,\n",
       "       206.87651554, 183.28616193, 160.0666748 , 195.80834653,\n",
       "       215.57255301, 198.41227588, 174.69637582, 170.55111948,\n",
       "       228.28395266, 150.22614567, 195.5253687 , 189.62579379,\n",
       "       161.56212779, 209.20357205, 198.57095013, 205.73538055,\n",
       "       165.56337256, 155.66222911, 190.38958425, 166.07795308,\n",
       "       182.44570029, 176.36014696, 215.31201408, 165.46399669,\n",
       "       217.31426485, 193.88895231, 185.07930175, 163.40560831,\n",
       "       182.0057343 , 191.56849739, 155.74323918, 201.19327655,\n",
       "       168.24753153, 192.05854545, 166.73187562, 149.98857664,\n",
       "       209.45410937, 170.44697203, 191.43098429, 197.03809399,\n",
       "       192.41842768, 173.7321477 , 176.63071256, 172.82157513,\n",
       "       215.54215583, 181.19000754, 179.02555287, 193.06710628,\n",
       "       180.04277905, 196.71759824, 190.23755145, 201.24376792,\n",
       "       192.84230856, 190.95202465, 185.92298982, 164.38249208,\n",
       "       215.05505035, 165.29618431, 206.73495197, 187.68222341,\n",
       "       181.46591954, 202.30689286, 142.21828331, 182.6295607 ,\n",
       "       167.54699072, 197.08143755, 177.56785866, 175.4266315 ,\n",
       "       151.89226769, 188.36146655, 190.22297115, 181.70001807,\n",
       "       157.18354164, 180.16072943, 190.17772373, 180.65330521,\n",
       "       148.25705776, 205.82546781, 170.30178137, 203.32500177,\n",
       "       186.02986884, 175.53605998, 181.71607647, 182.43592658,\n",
       "       204.11340676, 174.83813868, 197.41414354, 165.02345345,\n",
       "       194.72646414, 198.47220126, 207.2772996 , 162.67360714,\n",
       "       178.38685372, 180.06872866, 186.04409001, 200.04820344,\n",
       "       183.07693668, 208.93716916, 195.69420576, 210.43451961,\n",
       "       189.12527916, 167.21861102, 190.71893321, 183.88440892,\n",
       "       174.52956272, 226.07392549, 179.45789229, 179.33368601,\n",
       "       184.1487047 , 198.04517347, 190.52542849, 197.44585045,\n",
       "       196.5793458 , 203.80635777, 188.45342587, 173.24307244,\n",
       "       220.00080964, 207.2026653 , 201.24965112, 173.05525969,\n",
       "       166.42949717, 173.42257904, 216.25909599, 160.37792796,\n",
       "       181.95419196, 199.3957375 , 169.41935117, 186.12578683,\n",
       "       195.69661812, 179.78133495, 178.12736323, 163.06166324,\n",
       "       172.96843938, 197.59374282, 205.59059499, 203.22285269,\n",
       "       177.51685596, 185.46778515, 171.18289652, 215.88597375,\n",
       "       204.66768196, 174.6931466 , 173.01504456, 199.97838277,\n",
       "       205.92930126, 198.39666125, 180.03336932, 205.71490011,\n",
       "       208.64307045, 178.37335503, 193.4684217 , 197.74711307,\n",
       "       189.97931382, 185.79741791, 203.33721395, 179.17770471,\n",
       "       170.68491701, 206.28357633, 209.01030902, 199.23897421,\n",
       "       179.68711087, 195.61119785, 194.51466765, 146.94208932,\n",
       "       154.99696615, 181.01404275, 191.18865144, 189.68038236,\n",
       "       206.51819586, 200.33025241, 208.75143444, 195.64777459,\n",
       "       169.90159511, 187.80094369, 178.46374705, 174.16181697,\n",
       "       165.87714047, 160.12161782, 155.59833493, 203.34277238,\n",
       "       198.67091309, 179.20094141, 194.45430745, 189.55636695,\n",
       "       198.48629562, 175.85234174, 201.19266276, 187.67977161,\n",
       "       173.34858317, 193.8029279 , 190.28520956, 197.86432594,\n",
       "       186.35899879, 191.61402452, 185.57517331, 224.93071834,\n",
       "       185.99832723, 212.99693422, 172.98790526, 190.86065828,\n",
       "       171.34084439, 216.28741443, 187.31792665, 198.5100728 ,\n",
       "       174.26332685, 187.12660775, 225.79110703, 210.35414993,\n",
       "       191.86649419, 190.29011155, 185.85181174, 182.79261382,\n",
       "       188.77513789, 181.38638709, 193.88688577, 178.62944467,\n",
       "       201.11578306, 180.54993832, 170.70031797, 165.40678843,\n",
       "       178.62329485, 193.92871066, 181.80178788, 176.09369326,\n",
       "       177.70355803, 202.0591648 , 160.15449078, 177.74579387,\n",
       "       161.79492981, 207.11128703, 183.14072443, 163.88423653,\n",
       "       211.14421383, 211.28131296, 181.12341005, 192.33993615,\n",
       "       200.86485421, 194.78042085, 185.82715451, 231.24260333,\n",
       "       188.03267358, 166.97680904, 166.2209434 , 194.04678677,\n",
       "       166.20215361, 151.04339951, 187.12864551, 145.78841157,\n",
       "       189.44673688, 205.08114187, 176.86691495, 170.27243814,\n",
       "       179.27668918, 184.00039066, 191.30066312, 171.91620399,\n",
       "       191.46662595, 180.37841382, 177.56769769, 213.96206432,\n",
       "       172.41467973, 201.83209651, 225.55878857, 191.41426597,\n",
       "       201.09930417, 181.22160483, 163.42153399, 190.80370771,\n",
       "       183.22093688, 207.36719948, 174.5180839 , 183.48735677,\n",
       "       173.8674042 , 192.69680651, 168.59618588, 195.58094612,\n",
       "       189.59598968, 171.865743  , 170.2473443 , 129.89763912,\n",
       "       173.16145717, 215.22827416, 206.83737294, 188.60051167,\n",
       "       200.36658817, 201.5071934 , 193.09114712, 190.62470392,\n",
       "       172.30250417, 177.90525337, 183.03538824, 192.97135003,\n",
       "       187.78545408, 155.11994591, 175.00944886, 199.39955617,\n",
       "       184.75032921, 192.08911929, 211.30401913, 186.03821983,\n",
       "       188.69979818, 171.39767125, 176.55717241, 179.66842069,\n",
       "       176.04566198, 169.86180727, 188.27886384, 162.11822879,\n",
       "       205.15610244, 170.34118681, 166.68553678, 231.69471304,\n",
       "       201.18673834, 198.16510157, 202.99628313, 180.82043018,\n",
       "       168.00378584, 194.65499883, 220.05962877, 186.3307898 ,\n",
       "       200.8280616 , 165.25266249, 189.69420359, 172.17102447,\n",
       "       172.77710159, 168.0798514 , 198.17052863, 192.75534866,\n",
       "       189.11109004, 188.17368963, 179.00579667, 216.95398848,\n",
       "       162.15918706, 181.79182352, 188.09930413, 208.23286659,\n",
       "       157.79762109, 209.20518299, 205.59546387, 182.35839678,\n",
       "       175.67517477, 177.25113893, 157.47868179, 193.24705291,\n",
       "       178.0008554 , 198.45679734, 169.55397895, 181.18760212,\n",
       "       190.2188338 , 209.24270073, 209.14498696, 215.96065733,\n",
       "       202.31562193, 190.95233919, 162.03551314, 196.37669543,\n",
       "       183.21454258, 185.21565347, 181.35264361, 228.44970241,\n",
       "       172.52001035, 191.1968138 , 201.36266694, 210.91025021,\n",
       "       176.36640334, 179.63018463, 183.39256213, 161.57609596,\n",
       "       196.61021256, 208.35975469, 197.99273987, 228.39612011,\n",
       "       163.36119926, 169.44108721, 225.01302368, 205.7763496 ,\n",
       "       204.45931379, 176.0370484 , 222.23471756, 190.86211643,\n",
       "       190.02695618, 180.28614903, 192.39065185, 197.93454928,\n",
       "       216.39507526, 173.44459834, 206.3489588 , 180.37338917,\n",
       "       185.21215922, 186.57978797, 203.44181008, 192.60093087,\n",
       "       186.0285481 , 217.91351716, 180.55052327, 179.61116589,\n",
       "       184.75887357, 147.1556402 , 196.33298681, 176.90864952,\n",
       "       186.30330891, 201.42788737, 204.6532968 , 165.42390243,\n",
       "       188.9992119 , 173.85411894, 163.87923197, 186.52129592,\n",
       "       184.25122848, 201.50323822, 163.12650245, 171.89081729,\n",
       "       181.85473868, 205.67109088, 176.47939422, 194.24993883,\n",
       "       173.68908646, 190.24124972, 172.39569617, 186.91572963,\n",
       "       221.02366199, 197.98299174, 155.26921795, 170.611292  ,\n",
       "       193.09817908, 194.10853682, 155.62479215, 185.02410496,\n",
       "       183.94177039, 187.6131628 , 191.64195113, 203.26475422,\n",
       "       179.32913871, 183.07344474, 180.86140249, 158.7794068 ,\n",
       "       195.46361101, 195.95289674, 197.6413709 , 182.00771835,\n",
       "       182.67761893, 202.07975824, 183.20989021, 186.79744457,\n",
       "       172.50444084, 163.73449118, 185.97936315, 179.78362849,\n",
       "       208.99445482, 182.64077645, 189.20609433, 187.73093854,\n",
       "       188.91875439, 189.88320963, 227.435587  , 188.22433042,\n",
       "       174.60048117, 199.54685246, 180.75829613, 176.58327162,\n",
       "       181.90343948, 169.93521926, 169.93893962, 192.94349905,\n",
       "       150.17305339, 153.16845189, 172.2283375 , 164.33079416,\n",
       "       233.09872564, 178.94029641, 164.35514646, 187.56362257,\n",
       "       202.93814914, 170.96279357, 185.65499891, 179.53324414,\n",
       "       198.46307035, 164.78569697, 202.88214135, 179.61633385,\n",
       "       187.3696029 , 200.64813262, 182.05843725, 205.80360444,\n",
       "       165.16337824, 191.957596  , 184.03622302, 155.8950653 ,\n",
       "       182.46678546, 178.59129058, 194.74480608, 192.28954055,\n",
       "       199.33678481, 198.73260172, 205.00804507, 201.80546453,\n",
       "       183.38017642, 191.67291845, 184.1301065 , 202.29793412,\n",
       "       196.92303863, 185.60130462, 177.96560947, 184.60821279,\n",
       "       181.15015255, 166.58732944, 188.42296561, 175.13433763,\n",
       "       205.47894504])"
      ]
     },
     "execution_count": 169,
     "metadata": {},
     "output_type": "execute_result"
    }
   ],
   "source": [
    "pred_y = reg.predict(xtest)\n",
    "pred_y"
   ]
  },
  {
   "cell_type": "code",
   "execution_count": 170,
   "id": "dc731340",
   "metadata": {},
   "outputs": [
    {
     "data": {
      "text/plain": [
       "116.18817514579595"
      ]
     },
     "execution_count": 170,
     "metadata": {},
     "output_type": "execute_result"
    }
   ],
   "source": [
    "from sklearn.metrics import mean_squared_error\n",
    "mse = mean_squared_error(ytest, pred_y)\n",
    "mse"
   ]
  },
  {
   "cell_type": "code",
   "execution_count": 171,
   "id": "ac5d9abc",
   "metadata": {},
   "outputs": [
    {
     "data": {
      "text/plain": [
       "8.341609285195824"
      ]
     },
     "execution_count": 171,
     "metadata": {},
     "output_type": "execute_result"
    }
   ],
   "source": [
    "from sklearn.metrics import mean_absolute_error\n",
    "mse = mean_absolute_error(ytest, pred_y)\n",
    "mse"
   ]
  },
  {
   "cell_type": "code",
   "execution_count": null,
   "id": "589683ea",
   "metadata": {},
   "outputs": [],
   "source": []
  },
  {
   "cell_type": "code",
   "execution_count": null,
   "id": "b45babc6",
   "metadata": {},
   "outputs": [],
   "source": []
  }
 ],
 "metadata": {
  "kernelspec": {
   "display_name": "Python 3 (ipykernel)",
   "language": "python",
   "name": "python3"
  },
  "language_info": {
   "codemirror_mode": {
    "name": "ipython",
    "version": 3
   },
   "file_extension": ".py",
   "mimetype": "text/x-python",
   "name": "python",
   "nbconvert_exporter": "python",
   "pygments_lexer": "ipython3",
   "version": "3.10.2"
  }
 },
 "nbformat": 4,
 "nbformat_minor": 5
}
